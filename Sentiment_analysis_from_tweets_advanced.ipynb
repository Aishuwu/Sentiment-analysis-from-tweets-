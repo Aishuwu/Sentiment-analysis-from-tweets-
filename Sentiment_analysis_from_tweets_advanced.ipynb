{
  "nbformat": 4,
  "nbformat_minor": 0,
  "metadata": {
    "colab": {
      "provenance": []
    },
    "kernelspec": {
      "name": "python3",
      "display_name": "Python 3"
    },
    "language_info": {
      "name": "python"
    }
  },
  "cells": [
    {
      "cell_type": "markdown",
      "source": [
        "NLP Assignment 1 (40% of grade): Sentiment Analysis from Tweets\n",
        "This coursework will involve you implementing functions for a text classifier, which you will train to identify the sentiment expressed in a text in a dataset of approx. 27,000 entries, which will be split into a 80%/20% training/test split.\n",
        "\n",
        "In this template you are given the basis for that implementation, though some of the functions are missing, which you have to fill in.\n",
        "\n",
        "Follow the instructions file NLP_Assignment_1_Instructions.pdf for details of each question - the outline of what needs to be achieved for each question is as below.\n",
        "\n",
        "You must submit all ipython notebooks and extra resources you need to run the code if you've added them in the code submission, and a 2 page report (pdf) in the report submission on QMPlus where you report your methods and findings according to the instructions file for each question.\n"
      ],
      "metadata": {
        "id": "z_MDJcXQse1r"
      }
    },
    {
      "cell_type": "code",
      "execution_count": 51,
      "metadata": {
        "colab": {
          "base_uri": "https://localhost:8080/"
        },
        "id": "9UQS5hsvLDhi",
        "outputId": "b0c27c52-903a-4a93-b721-9bd532a22030"
      },
      "outputs": [
        {
          "output_type": "stream",
          "name": "stderr",
          "text": [
            "[nltk_data] Downloading package punkt to /root/nltk_data...\n",
            "[nltk_data]   Package punkt is already up-to-date!\n",
            "[nltk_data] Downloading package stopwords to /root/nltk_data...\n",
            "[nltk_data]   Package stopwords is already up-to-date!\n",
            "[nltk_data] Downloading package wordnet to /root/nltk_data...\n",
            "[nltk_data]   Package wordnet is already up-to-date!\n"
          ]
        },
        {
          "output_type": "execute_result",
          "data": {
            "text/plain": [
              "True"
            ]
          },
          "metadata": {},
          "execution_count": 51
        }
      ],
      "source": [
        "import csv                               # csv reader\n",
        "from sklearn.svm import LinearSVC\n",
        "from nltk.classify import SklearnClassifier\n",
        "from sklearn.pipeline import Pipeline\n",
        "from sklearn.metrics import precision_recall_fscore_support # to report on precision and recall\n",
        "import numpy as np\n",
        "import re\n",
        "from collections import Counter\n",
        "from sklearn.model_selection import train_test_split\n",
        "from nltk.tokenize import word_tokenize\n",
        "from nltk.stem import WordNetLemmatizer\n",
        "from nltk.corpus import stopwords\n",
        "import nltk\n",
        "from nltk.util import ngrams\n",
        "from sklearn.metrics import classification_report\n",
        "nltk.download('punkt')\n",
        "nltk.download('stopwords')\n",
        "nltk.download('wordnet')"
      ]
    },
    {
      "cell_type": "code",
      "source": [
        "def load_data(path):\n",
        "    \"\"\"Load data from a tab-separated file and append it to raw_data.\"\"\"\n",
        "    with open(path) as f:\n",
        "        reader = csv.reader(f, delimiter='\\t')\n",
        "        for line in reader:\n",
        "            if line[0] == \"Id\":  # skip header\n",
        "                continue\n",
        "            (label, text) = parse_data_line(line)\n",
        "            raw_data.append((text, label))\n",
        "\n",
        "def split_and_preprocess_data(percentage):\n",
        "    \"\"\"Split the data between train_data and test_data according to the percentage\n",
        "    and performs the preprocessing.\"\"\"\n",
        "    num_samples = len(raw_data)\n",
        "    num_training_samples = int((percentage * num_samples))\n",
        "    for (text, label) in raw_data[:num_training_samples]:\n",
        "        train_data.append((to_feature_vector(pre_process(text)),label))\n",
        "    for (text, label) in raw_data[num_training_samples:]:\n",
        "        test_data.append((to_feature_vector(pre_process(text)),label))"
      ],
      "metadata": {
        "id": "yeavVheYLXCx"
      },
      "execution_count": 52,
      "outputs": []
    },
    {
      "cell_type": "markdown",
      "source": [
        "Input and Basic preprocessing"
      ],
      "metadata": {
        "id": "kyEHxSiZsuvj"
      }
    },
    {
      "cell_type": "code",
      "source": [
        "def parse_data_line(data_line):\n",
        "    #Should return a tuple of the label as just positive or negative and the statement\n",
        "    #e.g. (label, statement)\n",
        "    label = data_line[1]\n",
        "    text = data_line[2]\n",
        "\n",
        "    return (label, text)\n",
        "\n"
      ],
      "metadata": {
        "id": "t3Xx3sz_Lasl"
      },
      "execution_count": 53,
      "outputs": []
    },
    {
      "cell_type": "markdown",
      "source": [
        "Here, parse_data_line takes a line of tab separated text data and extracts the label and text from the line and then it returns a tuple containing the simplified labels i.e positive or negative and the text"
      ],
      "metadata": {
        "id": "ivhi960GCaPy"
      }
    },
    {
      "cell_type": "code",
      "source": [
        "def pre_process(text):\n",
        "    #Separate punctuation at ends of strings\n",
        "    text = re.sub(r\"(\\w)([.,;:!?'\\\"”\\)])\", r\"\\1 \\2\", text)\n",
        "    #Separate punctuation at the beginning of strings\n",
        "    text = re.sub(r\"([.,;:!?'\\\"“\\(\\)])(\\w)\", r\"\\1 \\2\", text)\n",
        "\n",
        "    #Tokenizing using NLTK\n",
        "    tokens = word_tokenize(text)\n",
        "\n",
        "    #Removing stop words\n",
        "    stop_words = set(stopwords.words('english'))\n",
        "    tokens = [t.lower() for t in tokens if t.lower() not in stop_words]\n",
        "\n",
        "    #Lemmatization\n",
        "    lemmatizer = WordNetLemmatizer()\n",
        "    tokens = [lemmatizer.lemmatize(t) for t in tokens]\n",
        "\n",
        "    return tokens\n",
        "\n",
        "# Test\n",
        "text = \"I am a student at Queen Mary University of London.\"\n",
        "preprocessed_tokens = pre_process(text)\n",
        "print(preprocessed_tokens)"
      ],
      "metadata": {
        "colab": {
          "base_uri": "https://localhost:8080/"
        },
        "id": "2tO1k4LJLh8V",
        "outputId": "8b282710-0f58-4983-94bf-110907ff08eb"
      },
      "execution_count": 54,
      "outputs": [
        {
          "output_type": "stream",
          "name": "stdout",
          "text": [
            "['student', 'queen', 'mary', 'university', 'london', '.']\n"
          ]
        }
      ]
    },
    {
      "cell_type": "markdown",
      "source": [
        "Here, we define a pre_process function which takes a string as inpput and performs several text preprocessing steps such as\n",
        "1. Punctuation separation\n",
        "2. Tokenization\n",
        "3. Stopword Removal\n",
        "4. Lemmatization"
      ],
      "metadata": {
        "id": "R1ETAZaeC_Vo"
      }
    },
    {
      "cell_type": "markdown",
      "source": [
        "Basic Feature Extraction"
      ],
      "metadata": {
        "id": "T8mto6Uv1tYk"
      }
    },
    {
      "cell_type": "code",
      "source": [
        "global_feature_dict = {}  # A global dictionary of features\n",
        "\n",
        "def to_feature_vector(tokens, use_binary=True, include_stylistic=True, include_bigrams=True):\n",
        "    #Should return a dictionary containing features as keys, and weights as values\n",
        "\n",
        "    #Dictionary to represent feature_vector\n",
        "    feature_vector = {}\n",
        "\n",
        "    #Counter to count the occurrences of each token\n",
        "    token_counts = Counter(tokens)\n",
        "\n",
        "    #Updating the global feature dictionary with the tokens from the current text\n",
        "    global_feature_dict.update(token_counts)\n",
        "\n",
        "    #Setting feature values based on the chosen scheme\n",
        "    for token, count in token_counts.items():\n",
        "        if use_binary:\n",
        "            feature_vector[token] = 1\n",
        "        else:\n",
        "            feature_vector[token] = count  # Use term frequency as feature weight\n",
        "\n",
        "    #Add extra stylistic features\n",
        "    if include_stylistic:\n",
        "        words_per_sentence = len(tokens) / tokens.count('.') if tokens.count('.') > 0 else len(tokens)\n",
        "        feature_vector['words_per_sentence'] = words_per_sentence\n",
        "\n",
        "    # Add bigrams\n",
        "    if include_bigrams:\n",
        "        bigrams = list(ngrams(tokens, 2))\n",
        "        for bigram in bigrams:\n",
        "            feature_vector[' '.join(bigram)] = 1\n",
        "\n",
        "    return feature_vector\n",
        "\n",
        "# Test\n",
        "text = \"I study at QMUL in London. It is a great university.\"\n",
        "preprocessed_tokens = pre_process(text)\n",
        "result = to_feature_vector(preprocessed_tokens, use_binary=False, include_stylistic=True)\n",
        "print(result)"
      ],
      "metadata": {
        "colab": {
          "base_uri": "https://localhost:8080/"
        },
        "id": "M-rt9i39MENz",
        "outputId": "f3596426-6902-4533-90cf-9c406d5fc540"
      },
      "execution_count": 55,
      "outputs": [
        {
          "output_type": "stream",
          "name": "stdout",
          "text": [
            "{'study': 1, 'qmul': 1, 'london': 1, '.': 2, 'great': 1, 'university': 1, 'words_per_sentence': 3.5, 'study qmul': 1, 'qmul london': 1, 'london .': 1, '. great': 1, 'great university': 1, 'university .': 1}\n"
          ]
        }
      ]
    },
    {
      "cell_type": "markdown",
      "source": [
        "Here, we define to_feature_vector function that transforms a list of preprocessed tokens into a dictionary representing a feature vector. This function takes several parameters to custtomize the feature extraction process\n",
        "1. use_binary- if set to True, binary values are used as features and if set to False then term frequency is used as feature weight\n",
        "2. include_stylistic- if set to True, additional stylistic features are added to the feature vector. In our case, avg number of words per sentence\n",
        "3. include_bigrams- if set to True, bigrams are included as features with a binary representation\n",
        "The function utilizes a global dictionary(global_feature_dict) to keep track of token occurrences across diff texts"
      ],
      "metadata": {
        "id": "k_xS19yeEBNM"
      }
    },
    {
      "cell_type": "code",
      "source": [
        "# TRAINING AND VALIDATING OUR CLASSIFIER\n",
        "\n",
        "def train_classifier(data):\n",
        "    print(\"Training Classifier...\")\n",
        "    pipeline =  Pipeline([('svc', LinearSVC(max_iter=100000))])\n",
        "    return SklearnClassifier(pipeline).train(data)\n",
        "\n"
      ],
      "metadata": {
        "id": "X_H9L16cQzY0"
      },
      "execution_count": 56,
      "outputs": []
    },
    {
      "cell_type": "markdown",
      "source": [
        "Cross-validation"
      ],
      "metadata": {
        "id": "SZVEtZvw12YH"
      }
    },
    {
      "cell_type": "code",
      "source": [
        "\n",
        "def cross_validate(dataset, folds):\n",
        "    cv_results = {'precision': 0, 'recall': 0, 'f1-score': 0, 'accuracy': 0}\n",
        "    fold_size = int(len(dataset) / folds) + 1\n",
        "\n",
        "    for i in range(0, len(dataset), int(fold_size)):\n",
        "        print(\"Fold start on items %d - %d\" % (i, i + fold_size))\n",
        "\n",
        "        #Split the dataset into training and test sets\n",
        "        train_data, test_data = train_test_split(dataset, test_size=0.2, shuffle=False)\n",
        "\n",
        "        #Train the classifier\n",
        "        classifier = train_classifier(train_data)\n",
        "\n",
        "        #Preprocess the test data\n",
        "        preprocessed_test_data = [text for text, label in test_data]\n",
        "\n",
        "        #True labels\n",
        "        test_labels = [label for text, label in test_data]\n",
        "\n",
        "        #Predict labels using classifier\n",
        "        predicted_labels = predict_labels(preprocessed_test_data, classifier)\n",
        "\n",
        "        #Evaluate the classifier\n",
        "        report = classification_report(test_labels, predicted_labels, output_dict=True)\n",
        "\n",
        "        #Add the results for this fold to the overall results\n",
        "        cv_results['precision'] += report['weighted avg']['precision']\n",
        "        cv_results['recall'] += report['weighted avg']['recall']\n",
        "        cv_results['f1-score'] += report['weighted avg']['f1-score']\n",
        "        cv_results['accuracy'] += report['accuracy']\n",
        "\n",
        "    #Calculating average scores\n",
        "    num_folds = min(folds, len(dataset))\n",
        "    cv_results = {key: value / num_folds for key, value in cv_results.items()}\n",
        "\n",
        "    return cv_results"
      ],
      "metadata": {
        "id": "p771fS-FSGoU"
      },
      "execution_count": 57,
      "outputs": []
    },
    {
      "cell_type": "markdown",
      "source": [
        "Here, we define a cross validation function called cross_validate to evaluate the performance of a classifier on a dataset using the k fold cross validation. It iterates over the folds and splitting the dataset into training and test sets for each iteration\n",
        "the classifier is trained on the training data and then tested on the test data\n",
        "The evaluation metrics (precision, recall, f1-score, acccuracy) for each fold are aggregate and the avg scores are calculated and returned as a dictionary"
      ],
      "metadata": {
        "id": "Ief39ZvJF2Nu"
      }
    },
    {
      "cell_type": "code",
      "source": [
        "# PREDICTING LABELS GIVEN A CLASSIFIER\n",
        "\n",
        "def predict_labels(samples, classifier):\n",
        "    \"\"\"Assuming preprocessed samples, return their predicted labels from the classifier model.\"\"\"\n",
        "    return classifier.classify_many(samples)\n",
        "# reviewSample\n",
        "def predict_label_from_raw(sample, classifier):\n",
        "    \"\"\"Assuming raw text, return its predicted label from the classifier model.\"\"\"\n",
        "    return classifier.classify(to_feature_vector(pre_process(sample)))"
      ],
      "metadata": {
        "id": "SR3K8J9CSTrs"
      },
      "execution_count": 58,
      "outputs": []
    },
    {
      "cell_type": "code",
      "source": [
        "# MAIN\n",
        "\n",
        "# loading reviews\n",
        "# initialize global lists that will be appended to by the methods below\n",
        "raw_data = []          # the filtered data from the dataset file\n",
        "train_data = []        # the pre-processed training data as a percentage of the total dataset\n",
        "test_data = []         # the pre-processed test data as a percentage of the total dataset\n",
        "\n",
        "\n",
        "# references to the data files\n",
        "data_file_path = 'sentiment-dataset.tsv'\n",
        "\n",
        "# Do the actual stuff (i.e. call the functions we've made)\n",
        "# We parse the dataset and put it in a raw data list\n",
        "print(\"Now %d rawData, %d trainData, %d testData\" % (len(raw_data), len(train_data), len(test_data)),\n",
        "      \"Preparing the dataset...\",sep='\\n')\n",
        "\n",
        "load_data(data_file_path)\n",
        "\n",
        "# We split the raw dataset into a set of training data and a set of test data (80/20)\n",
        "# You do the cross validation on the 80% (training data)\n",
        "# We print the number of training samples and the number of features before the split\n",
        "print(\"Now %d rawData, %d trainData, %d testData\" % (len(raw_data), len(train_data), len(test_data)),\n",
        "      \"Preparing training and test data...\",sep='\\n')\n",
        "\n",
        "split_and_preprocess_data(0.8)\n",
        "\n",
        "# We print the number of training samples and the number of features after the split\n",
        "print(\"After split, %d rawData, %d trainData, %d testData\" % (len(raw_data), len(train_data), len(test_data)),\n",
        "      \"Training Samples: \", len(train_data), \"Features: \", len(global_feature_dict), sep='\\n')\n"
      ],
      "metadata": {
        "colab": {
          "base_uri": "https://localhost:8080/"
        },
        "id": "oklOMPUUTjCU",
        "outputId": "e038161c-c9e4-42a1-b171-99249277964b"
      },
      "execution_count": 59,
      "outputs": [
        {
          "output_type": "stream",
          "name": "stdout",
          "text": [
            "Now 0 rawData, 0 trainData, 0 testData\n",
            "Preparing the dataset...\n",
            "Now 33540 rawData, 0 trainData, 0 testData\n",
            "Preparing training and test data...\n",
            "After split, 33540 rawData, 26832 trainData, 6708 testData\n",
            "Training Samples: \n",
            "26832\n",
            "Features: \n",
            "57608\n"
          ]
        }
      ]
    },
    {
      "cell_type": "code",
      "source": [
        "pred= cross_validate(train_data, 10)  # will work and output overall performance of p, r, f-score when cv implemented\n",
        "print(pred)"
      ],
      "metadata": {
        "colab": {
          "base_uri": "https://localhost:8080/"
        },
        "id": "O9hPLHr-TlME",
        "outputId": "20882eba-691f-4629-f625-7416838f40e1"
      },
      "execution_count": 60,
      "outputs": [
        {
          "output_type": "stream",
          "name": "stdout",
          "text": [
            "Fold start on items 0 - 2684\n",
            "Training Classifier...\n",
            "Fold start on items 2684 - 5368\n",
            "Training Classifier...\n",
            "Fold start on items 5368 - 8052\n",
            "Training Classifier...\n",
            "Fold start on items 8052 - 10736\n",
            "Training Classifier...\n",
            "Fold start on items 10736 - 13420\n",
            "Training Classifier...\n",
            "Fold start on items 13420 - 16104\n",
            "Training Classifier...\n",
            "Fold start on items 16104 - 18788\n",
            "Training Classifier...\n",
            "Fold start on items 18788 - 21472\n",
            "Training Classifier...\n",
            "Fold start on items 21472 - 24156\n",
            "Training Classifier...\n",
            "Fold start on items 24156 - 26840\n",
            "Training Classifier...\n",
            "{'precision': 0.8602440361641175, 'recall': 0.8617477175330726, 'f1-score': 0.8601676040026278, 'accuracy': 0.8617477175330726}\n"
          ]
        }
      ]
    },
    {
      "cell_type": "markdown",
      "source": [
        "Error Analysis"
      ],
      "metadata": {
        "id": "2s7pzKMO2DYd"
      }
    },
    {
      "cell_type": "code",
      "source": [
        "from sklearn import metrics\n",
        "import matplotlib.pyplot as plt\n",
        "# a function to make the confusion matrix readable and pretty\n",
        "def confusion_matrix_heatmap(y_test, preds, labels):\n",
        "    \"\"\"Function to plot a confusion matrix\"\"\"\n",
        "    # pass labels to the confusion matrix function to ensure right order\n",
        "    # cm = metrics.confusion_matrix(y_test, preds, labels)\n",
        "    cm = metrics.confusion_matrix(y_test, preds, labels=labels)\n",
        "    fig = plt.figure(figsize=(10,10))\n",
        "    ax = fig.add_subplot(111)\n",
        "    cax = ax.matshow(cm)\n",
        "    plt.title('Confusion matrix of the classifier')\n",
        "    fig.colorbar(cax)\n",
        "    ax.set_xticks(np.arange(len(labels)))\n",
        "    ax.set_yticks(np.arange(len(labels)))\n",
        "    ax.set_xticklabels( labels, rotation=45)\n",
        "    ax.set_yticklabels( labels)\n",
        "\n",
        "    for i in range(len(cm)):\n",
        "        for j in range(len(cm)):\n",
        "            text = ax.text(j, i, cm[i, j],\n",
        "                           ha=\"center\", va=\"center\", color=\"w\")\n",
        "\n",
        "    plt.xlabel('Predicted')\n",
        "    plt.ylabel('True')\n",
        "\n",
        "    # fix for mpl bug that cuts off top/bottom of seaborn viz:\n",
        "    b, t = plt.ylim() # discover the values for bottom and top\n",
        "    b += 0.5 # Add 0.5 to the bottom\n",
        "    t -= 0.5 # Subtract 0.5 from the top\n",
        "    plt.ylim(b, t) # update the ylim(bottom, top) values\n",
        "    plt.show() # ta-da!\n",
        "    plt.show()\n",
        "\n",
        "    # Quantitative analysis and observations\n",
        "report = classification_report([label for text, label in test_data_first_fold], predicted, target_names=['negative', 'positive'])\n",
        "print(\"Classification Report:\")\n",
        "print(report)\n",
        "\n",
        "# Separate test data into False Positives and False Negatives\n",
        "false_positives = []\n",
        "false_negatives = []\n",
        "\n",
        "for i, (text, true_label) in enumerate(test_data_first_fold):\n",
        "    predicted_label = predicted[i]\n",
        "    if predicted_label != true_label:\n",
        "        instance_info = f\"Text: {text}\\nTrue Label: {true_label}\\nPredicted Label: {predicted_label}\\n\"\n",
        "        if predicted_label == 'positive' and true_label == 'negative':\n",
        "            false_positives.append(instance_info)\n",
        "        elif predicted_label == 'negative' and true_label == 'positive':\n",
        "            false_negatives.append(instance_info)\n",
        "\n",
        "# Print or write to a file\n",
        "with open('false_positives.txt', 'w') as fp_file:\n",
        "    fp_file.write(\"\\n\".join(false_positives))\n",
        "\n",
        "with open('false_negatives.txt', 'w') as fn_file:\n",
        "    fn_file.write(\"\\n\".join(false_negatives))\n",
        "\n",
        "folds=len(train_data)//2\n",
        "# train1,train2=zip(*train_data[:folds])\n",
        "# test1,test2=zip(*train_data[folds:])\n",
        "\n",
        "train_data_first_fold = train_data[:folds]\n",
        "test_data_first_fold = train_data[folds:2*folds]\n",
        "# Take one fold data and run confusion matrics function - TBD\n",
        "predicted=predict_labels([text for text, label in test_data_first_fold],train_classifier(train_data_first_fold))\n",
        "confusion_matrix_heatmap([label for text, label in test_data_first_fold], predicted, labels=['positive', 'negative'])"
      ],
      "metadata": {
        "colab": {
          "base_uri": "https://localhost:8080/",
          "height": 1000
        },
        "id": "g8LFL2YQTv7M",
        "outputId": "345f38fd-aea4-407a-c2c5-df941f65263a"
      },
      "execution_count": 61,
      "outputs": [
        {
          "output_type": "stream",
          "name": "stdout",
          "text": [
            "Classification Report:\n",
            "              precision    recall  f1-score   support\n",
            "\n",
            "    negative       0.81      0.71      0.76      4576\n",
            "    positive       0.86      0.92      0.89      8840\n",
            "\n",
            "    accuracy                           0.85     13416\n",
            "   macro avg       0.84      0.81      0.82     13416\n",
            "weighted avg       0.84      0.85      0.84     13416\n",
            "\n",
            "Training Classifier...\n"
          ]
        },
        {
          "output_type": "display_data",
          "data": {
            "text/plain": [
              "<Figure size 1000x1000 with 2 Axes>"
            ],
            "image/png": "[encoded data removed]"
          },
          "metadata": {}
        }
      ]
    },
    {
      "cell_type": "markdown",
      "source": [
        "Optimising pre-processing and feature extraction"
      ],
      "metadata": {
        "id": "6YJMJy2O2JsJ"
      }
    },
    {
      "cell_type": "code",
      "source": [
        "# Finally, check the accuracy of your classifier by training on all the traning data\n",
        "# and testing on the test set\n",
        "# Will only work once all functions are complete\n",
        "functions_complete = True  # set to True once you're happy with your methods for cross val\n",
        "if functions_complete:\n",
        "    print(test_data[0])   # have a look at the first test data instance\n",
        "    classifier = train_classifier(train_data)  # train the classifier\n",
        "    test_true = [t[1] for t in test_data]   # get the ground-truth labels from the data\n",
        "    test_pred = predict_labels([x[0] for x in test_data], classifier)  # classify the test data to get predicted labels\n",
        "    final_scores = precision_recall_fscore_support(test_true, test_pred, average='weighted') # evaluate\n",
        "    print(\"Done training!\")\n",
        "    print(\"Precision: %f\\nRecall: %f\\nF Score:%f\" % final_scores[:3])"
      ],
      "metadata": {
        "colab": {
          "base_uri": "https://localhost:8080/"
        },
        "id": "gpndHJwFEecL",
        "outputId": "13f75163-9fb2-44e8-a1a5-2b173369ddb6"
      },
      "execution_count": 46,
      "outputs": [
        {
          "output_type": "stream",
          "name": "stdout",
          "text": [
            "({'tomorrow': 1, \"'\": 1, 'release': 1, '58th': 1, 'episode': 1, '#': 1, 'hsonair': 1, 'profiling': 1, '@': 1, 'alissadossantos': 1, '!': 1, 'talk': 1, 'storytelling': 1, 'beyonce': 1, 'words_per_sentence': 16, \"tomorrow '\": 1, \"' release\": 1, 'release 58th': 1, '58th episode': 1, 'episode #': 1, '# hsonair': 1, 'hsonair profiling': 1, 'profiling @': 1, '@ alissadossantos': 1, 'alissadossantos !': 1, \"! '\": 1, \"' talk\": 1, 'talk storytelling': 1, 'storytelling beyonce': 1, 'beyonce !': 1}, 'positive')\n",
            "Training Classifier...\n",
            "Done training!\n",
            "Precision: 0.858851\n",
            "Recall: 0.860316\n",
            "F Score:0.858566\n"
          ]
        }
      ]
    },
    {
      "cell_type": "code",
      "source": [],
      "metadata": {
        "id": "QK9SE1d5Gynp"
      },
      "execution_count": 42,
      "outputs": []
    }
  ]
}