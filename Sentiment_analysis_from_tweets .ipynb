{
  "cells": [
    {
      "cell_type": "markdown",
      "metadata": {
        "id": "KQImzVcE44al"
      },
      "source": [
        "# NLP Assignment 1 (40% of grade): Sentiment Analysis from Tweets\n",
        "\n",
        "This coursework will involve you implementing functions for a text classifier, which you will train to identify the **sentiment expressed in a text** in a dataset of approx. 27,000 entries, which will be split into a 80%/20% training/test split.\n",
        "\n",
        "In this template you are given the basis for that implementation, though some of the functions are missing, which you have to fill in.\n",
        "\n",
        "Follow the instructions file **NLP_Assignment_1_Instructions.pdf** for details of each question - the outline of what needs to be achieved for each question is as below.\n",
        "\n",
        "You must submit all **ipython notebooks and extra resources you need to run the code if you've added them** in the code submission, and a **2 page report (pdf)** in the report submission on QMPlus where you report your methods and findings according to the instructions file for each question."
      ]
    },
    {
      "cell_type": "code",
      "execution_count": 27,
      "metadata": {
        "id": "3L1zJxqC44an"
      },
      "outputs": [],
      "source": [
        "import csv                               # csv reader\n",
        "from sklearn.svm import LinearSVC\n",
        "from nltk.classify import SklearnClassifier\n",
        "from sklearn.pipeline import Pipeline\n",
        "from sklearn.metrics import precision_recall_fscore_support # to report on precision and recall\n",
        "import numpy as np\n",
        "import re\n",
        "from collections import Counter\n",
        "from sklearn.model_selection import train_test_split\n",
        "from sklearn.metrics import classification_report"
      ]
    },
    {
      "cell_type": "code",
      "execution_count": 28,
      "metadata": {
        "id": "4N8Pa0Wo44ao"
      },
      "outputs": [],
      "source": [
        "def load_data(path):\n",
        "    \"\"\"Load data from a tab-separated file and append it to raw_data.\"\"\"\n",
        "    with open(path) as f:\n",
        "        reader = csv.reader(f, delimiter='\\t')\n",
        "        for line in reader:\n",
        "            if line[0] == \"Id\":  # skip header\n",
        "                continue\n",
        "            (label, text) = parse_data_line(line)\n",
        "            raw_data.append((text, label))\n",
        "\n",
        "def split_and_preprocess_data(percentage):\n",
        "    \"\"\"Split the data between train_data and test_data according to the percentage\n",
        "    and performs the preprocessing.\"\"\"\n",
        "    num_samples = len(raw_data)\n",
        "    num_training_samples = int((percentage * num_samples))\n",
        "    for (text, label) in raw_data[:num_training_samples]:\n",
        "        train_data.append((to_feature_vector(pre_process(text)),label))\n",
        "    for (text, label) in raw_data[num_training_samples:]:\n",
        "        test_data.append((to_feature_vector(pre_process(text)),label))"
      ]
    },
    {
      "cell_type": "markdown",
      "metadata": {
        "id": "tWal7J8044ap"
      },
      "source": [
        "# Question 1: Input and Basic preprocessing (10 marks)"
      ]
    },
    {
      "cell_type": "code",
      "execution_count": 29,
      "metadata": {
        "id": "rJ0t1Sqz44ap"
      },
      "outputs": [],
      "source": [
        "def parse_data_line(data_line):\n",
        "    # Should return a tuple of the label as just positive or negative and the statement\n",
        "    # e.g. (label, statement)\n",
        "    # Simplify labels to 'positive' or 'negative'\n",
        "    label = data_line[1]\n",
        "    text = data_line[2]\n",
        "\n",
        "    return (label, text)\n"
      ]
    },
    {
      "cell_type": "markdown",
      "source": [
        "Here, parse_data_line takes a line of tab separated text data and extracts the label and text from the line and then it returns a tuple containing the simplified labels i.e positive or negative and the text"
      ],
      "metadata": {
        "id": "YvP3PmACtFbI"
      }
    },
    {
      "cell_type": "code",
      "execution_count": 30,
      "metadata": {
        "id": "9AVXNQD644ap"
      },
      "outputs": [],
      "source": [
        "\n",
        "# Input: a string of one statement\n",
        "def pre_process(text):\n",
        "\n",
        "    #Word tokenisation\n",
        "    text = re.sub(r\"(\\w)([.,;:!?'\\\"”\\)])\", r\"\\1 \\2\", text)  # separates punctuation at ends of strings\n",
        "    text = re.sub(r\"([.,;:!?'\\\"“\\(\\)])(\\w)\", r\"\\1 \\2\", text)  # separates punctuation at the beginning of strings\n",
        "\n",
        "    tokens = re.split(r\"\\s+\", text)\n",
        "    #Normalisation - only by lowercasing for now\n",
        "    tokens = [t.lower() for t in tokens]\n",
        "    return tokens\n",
        "\n"
      ]
    },
    {
      "cell_type": "markdown",
      "source": [
        "Here, the pre_process function tokenizes the input text and separates punctuation from words and performs normalisation by converting all tokens to lowercase"
      ],
      "metadata": {
        "id": "sBfULezatqpG"
      }
    },
    {
      "cell_type": "markdown",
      "metadata": {
        "id": "ePRHWGbj44ap"
      },
      "source": [
        "# Question 2: Basic Feature Extraction (20 marks)"
      ]
    },
    {
      "cell_type": "code",
      "execution_count": 31,
      "metadata": {
        "id": "j9kUJQZe44ap",
        "colab": {
          "base_uri": "https://localhost:8080/"
        },
        "outputId": "c6ebbec4-6366-421b-f9f8-4f5038c1ca1e"
      },
      "outputs": [
        {
          "output_type": "stream",
          "name": "stdout",
          "text": [
            "{'i': 1, 'am': 1, 'a': 1, 'student': 1, 'at': 1, 'qmul': 1, 'in': 1, 'london': 1}\n"
          ]
        }
      ],
      "source": [
        "global_feature_dict = {} # A global dictionary of features\n",
        "\n",
        "def to_feature_vector(tokens):\n",
        "    # Should return a dictionary containing features as keys, and weights as values\n",
        "\n",
        "#Dictionary to represent feature_vector\n",
        "    feature_vector = {}\n",
        "#Counter to count the occurrences of each token\n",
        "    token_counts = Counter(tokens)\n",
        "#Updating the global feature dictionary with the tokens frrom the current text\n",
        "    global_feature_dict.update(token_counts)\n",
        "#Setting binary feature values: 1 if the feature is present andd 0 if it's not\n",
        "    for token, count in token_counts.items():\n",
        "        feature_vector[token] = 1\n",
        "\n",
        "    return feature_vector\n",
        "\n",
        "# Test\n",
        "token = pre_process('I am a student at QMUL in London')\n",
        "result = to_feature_vector(token)\n",
        "print(result)"
      ]
    },
    {
      "cell_type": "markdown",
      "source": [
        "Here, the to_feature_vector takes a list of tokens as input and returns a dictionary representing the feature vector. The purpose of this function is to convert a list of tokens into a binary feature vector where each unique token is a key in the dictionary and its corresponding value is set to 1 if the token is present and 0 if not.\n",
        "Additionally, the function updates a global dictionary global_feature_dict with the counts of each token from the current text"
      ],
      "metadata": {
        "id": "gZYLJC5PxezV"
      }
    },
    {
      "cell_type": "code",
      "execution_count": 32,
      "metadata": {
        "id": "XvklFS_a44aq"
      },
      "outputs": [],
      "source": [
        "# TRAINING AND VALIDATING OUR CLASSIFIER\n",
        "\n",
        "def train_classifier(data):\n",
        "    print(\"Training Classifier...\")\n",
        "    pipeline =  Pipeline([('svc', LinearSVC())])\n",
        "    return SklearnClassifier(pipeline).train(data)"
      ]
    },
    {
      "cell_type": "markdown",
      "source": [
        "Here, the function train_classifier takess a dataset as input and trains a classifier. The purpose of this function is to encapsulate the training process of the classifier and it returns the trained classifier wrapped inn the SKlearnClassifier class. This trained classifier can be later used for making predictions on new data"
      ],
      "metadata": {
        "id": "gcKA7L720DB3"
      }
    },
    {
      "cell_type": "markdown",
      "metadata": {
        "id": "EaoPFCO_44aq"
      },
      "source": [
        "# Question 3: Cross-validation (20 marks)"
      ]
    },
    {
      "cell_type": "code",
      "execution_count": 33,
      "metadata": {
        "id": "OCFnWlLR44aq"
      },
      "outputs": [],
      "source": [
        "#solution\n",
        "from sklearn.metrics import classification_report\n",
        "\n",
        "\n",
        "def cross_validate(dataset, folds):\n",
        "    cv_results = {'precision': 0, 'recall': 0, 'f1-score': 0, 'accuracy': 0}\n",
        "    fold_size = int(len(dataset)/folds) + 1\n",
        "\n",
        "    for i in range(0,len(dataset),int(fold_size)):\n",
        "        # insert code here that trains and tests on the 10 folds of data in the dataset\n",
        "        print(\"Fold start on items %d - %d\" % (i, i+fold_size))\n",
        "\n",
        "        #Split the dataset into training and test sets\n",
        "        train_data, test_data = train_test_split(dataset, test_size=0.2, shuffle=False)\n",
        "\n",
        "\n",
        "        #train the classifier\n",
        "        classifier = train_classifier(train_data) #and labels for true values\n",
        "\n",
        "\n",
        "        #preprocess the test data\n",
        "        test_samples = [text for text, label in test_data]\n",
        "        #preprocessed_test_data = [to_feature_vector(pre_process(sample)) for sample in test_samples]\n",
        "\n",
        "        # #true labels\n",
        "        test_labels = [label for text, label in test_data]\n",
        "\n",
        "        #predict labels using classifier\n",
        "        predicted_labels = predict_labels(test_samples, classifier)\n",
        "\n",
        "        #evaluate the classifier\n",
        "        report = classification_report(test_labels, predicted_labels, output_dict= True)\n",
        "\n",
        "        #add the results for this fold to the overall results\n",
        "\n",
        "        cv_results['precision'] += report['weighted avg']['precision']\n",
        "        cv_results['recall'] += report['weighted avg']['recall']\n",
        "        cv_results['f1-score'] += report['weighted avg']['f1-score']\n",
        "        cv_results['accuracy'] += report['accuracy']\n",
        "\n",
        "\n",
        "        #calculating average scores\n",
        "    num_folds = min(folds, len(dataset))\n",
        "    cv_results = {key: value / num_folds for key, value in cv_results.items()}\n",
        "\n",
        "\n",
        "    return cv_results"
      ]
    },
    {
      "cell_type": "markdown",
      "source": [
        "Here, we define a cross validation function called cross_validate to evaluate the performance of a classifier on a dataset using the k fold cross validation. It iterates over the folds and splitting the dataset into training and test sets for each iteration\n",
        "the classifier is trained on the training data and then tested on the test data\n",
        "The evaluation metrics (precision, recall, f1-score, acccuracy) for each fold are aggregate and the avg scores are calculated and returned as a dictionary"
      ],
      "metadata": {
        "id": "3LMFpT0U1Wg7"
      }
    },
    {
      "cell_type": "code",
      "execution_count": 34,
      "metadata": {
        "id": "kokoWR5D44aq"
      },
      "outputs": [],
      "source": [
        "# PREDICTING LABELS GIVEN A CLASSIFIER\n",
        "\n",
        "def predict_labels(samples, classifier):\n",
        "    \"\"\"Assuming preprocessed samples, return their predicted labels from the classifier model.\"\"\"\n",
        "    return classifier.classify_many(samples)\n",
        "# reviewSample\n",
        "def predict_label_from_raw(sample, classifier):\n",
        "    \"\"\"Assuming raw text, return its predicted label from the classifier model.\"\"\"\n",
        "    return classifier.classify(to_feature_vector(pre_process(sample)))"
      ]
    },
    {
      "cell_type": "code",
      "execution_count": 35,
      "metadata": {
        "id": "pOudb3oR44ar",
        "colab": {
          "base_uri": "https://localhost:8080/"
        },
        "outputId": "e30444e3-cc83-428c-8836-415f3860dce7"
      },
      "outputs": [
        {
          "output_type": "stream",
          "name": "stdout",
          "text": [
            "Now 0 rawData, 0 trainData, 0 testData\n",
            "Preparing the dataset...\n",
            "Now 33540 rawData, 0 trainData, 0 testData\n",
            "Preparing training and test data...\n",
            "After split, 33540 rawData, 26832 trainData, 6708 testData\n",
            "Training Samples: \n",
            "26832\n",
            "Features: \n",
            "64641\n"
          ]
        }
      ],
      "source": [
        "# MAIN\n",
        "\n",
        "# loading reviews\n",
        "# initialize global lists that will be appended to by the methods below\n",
        "raw_data = []          # the filtered data from the dataset file\n",
        "train_data = []        # the pre-processed training data as a percentage of the total dataset\n",
        "test_data = []         # the pre-processed test data as a percentage of the total dataset\n",
        "\n",
        "\n",
        "# references to the data files\n",
        "data_file_path = 'sentiment-dataset.tsv'\n",
        "\n",
        "# Do the actual stuff (i.e. call the functions we've made)\n",
        "# We parse the dataset and put it in a raw data list\n",
        "print(\"Now %d rawData, %d trainData, %d testData\" % (len(raw_data), len(train_data), len(test_data)),\n",
        "      \"Preparing the dataset...\",sep='\\n')\n",
        "\n",
        "load_data(data_file_path)\n",
        "\n",
        "# We split the raw dataset into a set of training data and a set of test data (80/20)\n",
        "# You do the cross validation on the 80% (training data)\n",
        "# We print the number of training samples and the number of features before the split\n",
        "print(\"Now %d rawData, %d trainData, %d testData\" % (len(raw_data), len(train_data), len(test_data)),\n",
        "      \"Preparing training and test data...\",sep='\\n')\n",
        "\n",
        "split_and_preprocess_data(0.8)\n",
        "\n",
        "# We print the number of training samples and the number of features after the split\n",
        "print(\"After split, %d rawData, %d trainData, %d testData\" % (len(raw_data), len(train_data), len(test_data)),\n",
        "      \"Training Samples: \", len(train_data), \"Features: \", len(global_feature_dict), sep='\\n')\n"
      ]
    },
    {
      "cell_type": "code",
      "execution_count": 36,
      "metadata": {
        "id": "8JWuZ5m_44ar",
        "colab": {
          "base_uri": "https://localhost:8080/"
        },
        "outputId": "d0148003-8e03-4b2d-b4a3-c281a20f2d79"
      },
      "outputs": [
        {
          "output_type": "stream",
          "name": "stdout",
          "text": [
            "Fold start on items 0 - 2684\n",
            "Training Classifier...\n",
            "Fold start on items 2684 - 5368\n",
            "Training Classifier...\n",
            "Fold start on items 5368 - 8052\n",
            "Training Classifier...\n",
            "Fold start on items 8052 - 10736\n",
            "Training Classifier...\n",
            "Fold start on items 10736 - 13420\n",
            "Training Classifier...\n",
            "Fold start on items 13420 - 16104\n",
            "Training Classifier...\n",
            "Fold start on items 16104 - 18788\n",
            "Training Classifier...\n",
            "Fold start on items 18788 - 21472\n",
            "Training Classifier...\n",
            "Fold start on items 21472 - 24156\n",
            "Training Classifier...\n",
            "Fold start on items 24156 - 26840\n",
            "Training Classifier...\n",
            "{'precision': 0.8517370942024269, 'recall': 0.8529904974846281, 'f1-score': 0.8521313658960432, 'accuracy': 0.8529904974846281}\n"
          ]
        }
      ],
      "source": [
        "pred = cross_validate(train_data, 10)  # will work and output overall performance of p, r, f-score when cv implemented\n",
        "print(pred)"
      ]
    },
    {
      "cell_type": "markdown",
      "metadata": {
        "id": "hnsft94c44ar"
      },
      "source": [
        "# Question 4: Error Analysis (20 marks)"
      ]
    },
    {
      "cell_type": "code",
      "execution_count": 37,
      "metadata": {
        "id": "SWjwE6K544as",
        "colab": {
          "base_uri": "https://localhost:8080/",
          "height": 1000
        },
        "outputId": "e64064f9-2891-4e85-a0f5-b4bf1c2d194a"
      },
      "outputs": [
        {
          "output_type": "stream",
          "name": "stdout",
          "text": [
            "Classification Report:\n",
            "              precision    recall  f1-score   support\n",
            "\n",
            "    negative       0.78      0.73      0.76      4576\n",
            "    positive       0.86      0.90      0.88      8840\n",
            "\n",
            "    accuracy                           0.84     13416\n",
            "   macro avg       0.82      0.81      0.82     13416\n",
            "weighted avg       0.84      0.84      0.84     13416\n",
            "\n",
            "Training Classifier...\n"
          ]
        },
        {
          "output_type": "display_data",
          "data": {
            "text/plain": [
              "<Figure size 1000x1000 with 2 Axes>"
            ],
            "image/png": "[encoded data removed]"
          },
          "metadata": {}
        }
      ],
      "source": [
        "from sklearn import metrics\n",
        "import matplotlib.pyplot as plt\n",
        "# a function to make the confusion matrix readable and pretty\n",
        "def confusion_matrix_heatmap(y_test, preds, labels):\n",
        "    \"\"\"Function to plot a confusion matrix\"\"\"\n",
        "    # pass labels to the confusion matrix function to ensure right order\n",
        "    # cm = metrics.confusion_matrix(y_test, preds, labels)\n",
        "    cm = metrics.confusion_matrix(y_test, preds, labels=labels)\n",
        "    fig = plt.figure(figsize=(10,10))\n",
        "    ax = fig.add_subplot(111)\n",
        "    cax = ax.matshow(cm)\n",
        "    plt.title('Confusion matrix of the classifier')\n",
        "    fig.colorbar(cax)\n",
        "    ax.set_xticks(np.arange(len(labels)))\n",
        "    ax.set_yticks(np.arange(len(labels)))\n",
        "    ax.set_xticklabels( labels, rotation=45)\n",
        "    ax.set_yticklabels( labels)\n",
        "\n",
        "    for i in range(len(cm)):\n",
        "        for j in range(len(cm)):\n",
        "            text = ax.text(j, i, cm[i, j],\n",
        "                           ha=\"center\", va=\"center\", color=\"w\")\n",
        "\n",
        "    plt.xlabel('Predicted')\n",
        "    plt.ylabel('True')\n",
        "\n",
        "    # fix for mpl bug that cuts off top/bottom of seaborn viz:\n",
        "    b, t = plt.ylim() # discover the values for bottom and top\n",
        "    b += 0.5 # Add 0.5 to the bottom\n",
        "    t -= 0.5 # Subtract 0.5 from the top\n",
        "    plt.ylim(b, t) # update the ylim(bottom, top) values\n",
        "    plt.show() # ta-da!\n",
        "    plt.show()\n",
        "\n",
        "\n",
        "# Quantitative analysis and observations\n",
        "report = classification_report([label for text, label in test_data_first_fold], predicted, target_names=['negative', 'positive'])\n",
        "print(\"Classification Report:\")\n",
        "print(report)\n",
        "\n",
        "# Separate test data into False Positives and False Negatives\n",
        "false_positives = []\n",
        "false_negatives = []\n",
        "\n",
        "for i, (text, true_label) in enumerate(test_data_first_fold):\n",
        "    predicted_label = predicted[i]\n",
        "    if predicted_label != true_label:\n",
        "        instance_info = f\"Text: {text}\\nTrue Label: {true_label}\\nPredicted Label: {predicted_label}\\n\"\n",
        "        if predicted_label == 'positive' and true_label == 'negative':\n",
        "            false_positives.append(instance_info)\n",
        "        elif predicted_label == 'negative' and true_label == 'positive':\n",
        "            false_negatives.append(instance_info)\n",
        "\n",
        "# Print or write to a file\n",
        "with open('false_positives.txt', 'w') as fp_file:\n",
        "    fp_file.write(\"\\n\".join(false_positives))\n",
        "\n",
        "with open('false_negatives.txt', 'w') as fn_file:\n",
        "    fn_file.write(\"\\n\".join(false_negatives))\n",
        "\n",
        "\n",
        "folds=len(train_data)//2\n",
        "\n",
        "train_data_first_fold = train_data[:folds]\n",
        "test_data_first_fold = train_data[folds:2*folds]\n",
        "# Take one fold data and run confusion matrics function\n",
        "predicted=predict_labels([text for text, label in test_data_first_fold],train_classifier(train_data_first_fold))\n",
        "confusion_matrix_heatmap([label for text, label in test_data_first_fold], predicted, labels=['positive', 'negative'])\n",
        "\n",
        "\n"
      ]
    },
    {
      "cell_type": "markdown",
      "metadata": {
        "id": "uIL1o7t744as"
      },
      "source": [
        "# Questions 5: Optimising pre-processing and feature extraction (30 marks)"
      ]
    },
    {
      "cell_type": "markdown",
      "metadata": {
        "id": "c6jVg8N844as"
      },
      "source": [
        "**Note:** it is advisable to implement question 5 in a separate notebook where you further develop the pre-processing and feature extraction functions you implemented above."
      ]
    },
    {
      "cell_type": "code",
      "execution_count": 38,
      "metadata": {
        "id": "2rKBC0Xx44as",
        "colab": {
          "base_uri": "https://localhost:8080/"
        },
        "outputId": "f3f83971-ac91-4994-e074-e7a0a42d5206"
      },
      "outputs": [
        {
          "output_type": "stream",
          "name": "stdout",
          "text": [
            "({'tomorrow': 1, 'we': 1, \"'\": 1, 'll': 1, 'release': 1, 'our': 1, '58th': 1, 'episode': 1, 'of': 1, '#hsonair': 1, 'profiling': 1, 'very': 1, 'own': 1, '@alissadossantos': 1, '!': 1, 'talk': 1, 'about': 1, 'storytelling': 1, 'and': 1, 'beyonce': 1}, 'positive')\n",
            "Training Classifier...\n",
            "Done training!\n",
            "Precision: 0.852594\n",
            "Recall: 0.853757\n",
            "F Score:0.852966\n"
          ]
        }
      ],
      "source": [
        "# Finally, check the accuracy of your classifier by training on all the traning data\n",
        "# and testing on the test set\n",
        "# Will only work once all functions are complete\n",
        "functions_complete = True  # set to True once you're happy with your methods for cross val\n",
        "if functions_complete:\n",
        "    print(test_data[0])   # have a look at the first test data instance\n",
        "    classifier = train_classifier(train_data)  # train the classifier\n",
        "    test_true = [t[1] for t in test_data]   # get the ground-truth labels from the data\n",
        "    test_pred = predict_labels([x[0] for x in test_data], classifier)  # classify the test data to get predicted labels\n",
        "    final_scores = precision_recall_fscore_support(test_true, test_pred, average='weighted') # evaluate\n",
        "    print(\"Done training!\")\n",
        "    print(\"Precision: %f\\nRecall: %f\\nF Score:%f\" % final_scores[:3])"
      ]
    },
    {
      "cell_type": "code",
      "execution_count": 128,
      "metadata": {
        "id": "wx4-xk3A44at"
      },
      "outputs": [],
      "source": []
    },
    {
      "cell_type": "code",
      "execution_count": 128,
      "metadata": {
        "id": "I_VhpBjD44at"
      },
      "outputs": [],
      "source": []
    }
  ],
  "metadata": {
    "kernelspec": {
      "display_name": "Python 3 (ipykernel)",
      "language": "python",
      "name": "python3"
    },
    "language_info": {
      "codemirror_mode": {
        "name": "ipython",
        "version": 3
      },
      "file_extension": ".py",
      "mimetype": "text/x-python",
      "name": "python",
      "nbconvert_exporter": "python",
      "pygments_lexer": "ipython3",
      "version": "3.10.12"
    },
    "colab": {
      "provenance": []
    }
  },
  "nbformat": 4,
  "nbformat_minor": 0
}